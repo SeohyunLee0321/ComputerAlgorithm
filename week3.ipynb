{
  "nbformat": 4,
  "nbformat_minor": 0,
  "metadata": {
    "colab": {
      "provenance": [],
      "authorship_tag": "ABX9TyMVPeRasnuN9ApObSezKL6C",
      "include_colab_link": true
    },
    "kernelspec": {
      "name": "python3",
      "display_name": "Python 3"
    },
    "language_info": {
      "name": "python"
    }
  },
  "cells": [
    {
      "cell_type": "markdown",
      "metadata": {
        "id": "view-in-github",
        "colab_type": "text"
      },
      "source": [
        "<a href=\"https://colab.research.google.com/github/SeohyunLee0321/Sophomore/blob/main/week3.ipynb\" target=\"_parent\"><img src=\"https://colab.research.google.com/assets/colab-badge.svg\" alt=\"Open In Colab\"/></a>"
      ]
    },
    {
      "cell_type": "markdown",
      "source": [
        "출력 명령어_01"
      ],
      "metadata": {
        "id": "4NG9AbRrc49X"
      }
    },
    {
      "cell_type": "code",
      "execution_count": null,
      "metadata": {
        "colab": {
          "base_uri": "https://localhost:8080/",
          "height": 303
        },
        "id": "uVu06FL7bpSO",
        "outputId": "1afaf6c1-9165-41f2-ea6c-456ccde85c4c"
      },
      "outputs": [
        {
          "output_type": "stream",
          "name": "stdout",
          "text": [
            "123\n",
            "Hello, friend\n",
            "123\n",
            "123\n",
            "125\n"
          ]
        },
        {
          "output_type": "error",
          "ename": "TypeError",
          "evalue": "ignored",
          "traceback": [
            "\u001b[0;31m---------------------------------------------------------------------------\u001b[0m",
            "\u001b[0;31mTypeError\u001b[0m                                 Traceback (most recent call last)",
            "\u001b[0;32m<ipython-input-1-baecbdac3f5d>\u001b[0m in \u001b[0;36m<module>\u001b[0;34m()\u001b[0m\n\u001b[1;32m      7\u001b[0m \u001b[0;34m\u001b[0m\u001b[0m\n\u001b[1;32m      8\u001b[0m \u001b[0mprint\u001b[0m\u001b[0;34m(\u001b[0m\u001b[0;36m123\u001b[0m\u001b[0;34m+\u001b[0m\u001b[0;36m2\u001b[0m\u001b[0;34m)\u001b[0m\u001b[0;34m\u001b[0m\u001b[0;34m\u001b[0m\u001b[0m\n\u001b[0;32m----> 9\u001b[0;31m \u001b[0mprint\u001b[0m\u001b[0;34m(\u001b[0m\u001b[0;34m'123'\u001b[0m\u001b[0;34m+\u001b[0m\u001b[0;36m2\u001b[0m\u001b[0;34m)\u001b[0m\u001b[0;34m\u001b[0m\u001b[0;34m\u001b[0m\u001b[0m\n\u001b[0m",
            "\u001b[0;31mTypeError\u001b[0m: can only concatenate str (not \"int\") to str"
          ]
        }
      ],
      "source": [
        "print(123)\n",
        "\n",
        "print('Hello, friend')\n",
        "\n",
        "print(123)\n",
        "print('123')\n",
        "\n",
        "print(123 + 2)\n",
        "\n",
        "# 문자열 + 정수 는 불가\n",
        "print('123' + 2)"
      ]
    },
    {
      "cell_type": "code",
      "source": [
        "print('123'+'2')"
      ],
      "metadata": {
        "colab": {
          "base_uri": "https://localhost:8080/"
        },
        "id": "J90zozmnf4BX",
        "outputId": "1bdc8053-37f3-49e9-c9df-2fe1c52cb4d5"
      },
      "execution_count": null,
      "outputs": [
        {
          "output_type": "stream",
          "name": "stdout",
          "text": [
            "1232\n"
          ]
        }
      ]
    },
    {
      "cell_type": "code",
      "source": [
        "print(123/22)\n",
        "print(123//22)\n",
        "print(123%22)\n",
        "print(5**2)"
      ],
      "metadata": {
        "colab": {
          "base_uri": "https://localhost:8080/"
        },
        "id": "BOVPSYnHj9U0",
        "outputId": "602590b5-b97b-46d4-a962-2d3ca1f21f59"
      },
      "execution_count": null,
      "outputs": [
        {
          "output_type": "stream",
          "name": "stdout",
          "text": [
            "5.590909090909091\n",
            "5\n",
            "13\n",
            "25\n"
          ]
        }
      ]
    },
    {
      "cell_type": "markdown",
      "source": [
        "출력 명령어_02"
      ],
      "metadata": {
        "id": "qaX0-3IGlXSb"
      }
    },
    {
      "cell_type": "code",
      "source": [
        "print('파이썬'+'프로그래밍')\n",
        "print('파이썬','프로그래밍')\n",
        "print(3+22)\n",
        "print(3,22)"
      ],
      "metadata": {
        "colab": {
          "base_uri": "https://localhost:8080/"
        },
        "id": "U4K0MMHhkmXl",
        "outputId": "8885fb80-4ae7-402e-af25-8b0ffc0322b0"
      },
      "execution_count": null,
      "outputs": [
        {
          "output_type": "stream",
          "name": "stdout",
          "text": [
            "파이썬프로그래밍\n",
            "파이썬 프로그래밍\n",
            "25\n",
            "3 22\n"
          ]
        }
      ]
    },
    {
      "cell_type": "code",
      "source": [
        "print('사랑해' * 10)"
      ],
      "metadata": {
        "colab": {
          "base_uri": "https://localhost:8080/"
        },
        "id": "gsrga2nSlQeV",
        "outputId": "480a8a2a-bd68-4124-9231-aba47e72eb2d"
      },
      "execution_count": null,
      "outputs": [
        {
          "output_type": "stream",
          "name": "stdout",
          "text": [
            "사랑해사랑해사랑해사랑해사랑해사랑해사랑해사랑해사랑해사랑해\n"
          ]
        }
      ]
    },
    {
      "cell_type": "markdown",
      "source": [
        "입력 명령어_01"
      ],
      "metadata": {
        "id": "yyiCj9rKlstl"
      }
    },
    {
      "cell_type": "code",
      "source": [
        "input()"
      ],
      "metadata": {
        "colab": {
          "base_uri": "https://localhost:8080/",
          "height": 54
        },
        "id": "Wl-MqojZluwD",
        "outputId": "2347306a-e3d3-47b9-d025-fc4c72c96e1a"
      },
      "execution_count": null,
      "outputs": [
        {
          "name": "stdout",
          "output_type": "stream",
          "text": [
            "hello\n"
          ]
        },
        {
          "output_type": "execute_result",
          "data": {
            "text/plain": [
              "'hello'"
            ],
            "application/vnd.google.colaboratory.intrinsic+json": {
              "type": "string"
            }
          },
          "metadata": {},
          "execution_count": 21
        }
      ]
    },
    {
      "cell_type": "code",
      "source": [
        "input('id: ')\n",
        "input('password: ')"
      ],
      "metadata": {
        "colab": {
          "base_uri": "https://localhost:8080/",
          "height": 72
        },
        "id": "ukBfTNHOmYbk",
        "outputId": "04e434fb-2c76-4a17-af50-2bba116f5099"
      },
      "execution_count": null,
      "outputs": [
        {
          "name": "stdout",
          "output_type": "stream",
          "text": [
            "id: swu\n",
            "password: 0321\n"
          ]
        },
        {
          "output_type": "execute_result",
          "data": {
            "text/plain": [
              "'0321'"
            ],
            "application/vnd.google.colaboratory.intrinsic+json": {
              "type": "string"
            }
          },
          "metadata": {},
          "execution_count": 4
        }
      ]
    },
    {
      "cell_type": "markdown",
      "source": [
        "입력 명령어_02"
      ],
      "metadata": {
        "id": "epAsKOyFmwM_"
      }
    },
    {
      "cell_type": "code",
      "source": [
        "print(input('아이디: ')+'님!,환영합니다.')"
      ],
      "metadata": {
        "colab": {
          "base_uri": "https://localhost:8080/"
        },
        "id": "Qpw9KoEGn-20",
        "outputId": "c5de949a-62f5-4932-e635-10e0f321be8c"
      },
      "execution_count": null,
      "outputs": [
        {
          "output_type": "stream",
          "name": "stdout",
          "text": [
            "아이디: swu\n",
            "swu님!,환영합니다.\n"
          ]
        }
      ]
    },
    {
      "cell_type": "markdown",
      "source": [
        "변수 사용_02"
      ],
      "metadata": {
        "id": "9OXrGz9hnZ09"
      }
    },
    {
      "cell_type": "code",
      "source": [
        "name='james'\n",
        "height=184\n",
        "age=24\n",
        "hobby='cooking'\n",
        "print(name,'키는',height,',나이는',age,',취미는',hobby,'입니다.')\n",
        "print('{} 키는 {}, 나이는 {}, 취미는 {} 입니다.'.format(name,height,age,hobby))"
      ],
      "metadata": {
        "colab": {
          "base_uri": "https://localhost:8080/"
        },
        "id": "mQERhDw9nb98",
        "outputId": "5aed1bb9-c1c7-46f3-936e-388122ee95e4"
      },
      "execution_count": null,
      "outputs": [
        {
          "output_type": "stream",
          "name": "stdout",
          "text": [
            "james 키는 184 ,나이는 24 ,취미는 cooking 입니다.\n",
            "james 키는 184, 나이는 24, 취미는 cooking 입니다.\n"
          ]
        }
      ]
    },
    {
      "cell_type": "markdown",
      "source": [
        "변수 사용_03"
      ],
      "metadata": {
        "id": "KJv-Mie-umEJ"
      }
    },
    {
      "cell_type": "code",
      "source": [
        "p=3.141592\n",
        "r=5\n",
        "#원 넓이\n",
        "\"\"\"바보\n",
        "멍청이\n",
        "똥개\"\"\"\n",
        "result=p*r**2\n",
        "print(result)"
      ],
      "metadata": {
        "colab": {
          "base_uri": "https://localhost:8080/"
        },
        "id": "Thy1ohIvuocL",
        "outputId": "19569913-d35d-4ef1-be29-9de52a4e0c5a"
      },
      "execution_count": null,
      "outputs": [
        {
          "output_type": "stream",
          "name": "stdout",
          "text": [
            "78.5398\n"
          ]
        }
      ]
    },
    {
      "cell_type": "code",
      "source": [
        "id = input('아이디: ')\n",
        "print(id + '님!,환영합니다.')"
      ],
      "metadata": {
        "colab": {
          "base_uri": "https://localhost:8080/"
        },
        "id": "U-G_R-xqeeHH",
        "outputId": "97209750-6f75-4e19-9d6a-1cdad528a007"
      },
      "execution_count": null,
      "outputs": [
        {
          "output_type": "stream",
          "name": "stdout",
          "text": [
            "아이디: swu\n",
            "swu님!,환영합니다.\n"
          ]
        }
      ]
    }
  ]
}